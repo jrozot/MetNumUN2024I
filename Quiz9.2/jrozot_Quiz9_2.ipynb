{
  "nbformat": 4,
  "nbformat_minor": 0,
  "metadata": {
    "colab": {
      "provenance": [],
      "include_colab_link": true
    },
    "kernelspec": {
      "name": "python3",
      "display_name": "Python 3"
    },
    "language_info": {
      "name": "python"
    }
  },
  "cells": [
    {
      "cell_type": "markdown",
      "metadata": {
        "id": "view-in-github",
        "colab_type": "text"
      },
      "source": [
        "<a href=\"https://colab.research.google.com/github/jrozot/MetNumUN2024I/blob/main/Quiz9.2/jrozot_Quiz9_2.ipynb\" target=\"_parent\"><img src=\"https://colab.research.google.com/assets/colab-badge.svg\" alt=\"Open In Colab\"/></a>"
      ]
    },
    {
      "cell_type": "markdown",
      "source": [
        "### Cramer by hand\n",
        "\n",
        "$$A = \\left[\n",
        "  \\begin{array}{cc}\n",
        "1 & 2\\\\\n",
        "3 & 4\n",
        "\\end{array}\n",
        "\\right],  \n",
        "b= \\left[\n",
        "\\begin{array}{c}\n",
        "5\\\\\n",
        "6\n",
        "\\end{array}\n",
        "\\right]\n",
        "$$\n",
        "$$\n",
        "Ax =B\n",
        "$$\n",
        "$$  \n",
        "\\left[\n",
        "  \\begin{array}{cc}\n",
        "1 & 2\\\\\n",
        "3 & 4\n",
        "\\end{array}\n",
        "\\right]\n",
        "\\left[\n",
        "\\begin{array}{c}\n",
        "x_1\\\\\n",
        "x_2\n",
        "\\end{array}\n",
        "\\right]  \n",
        "=\n",
        "\\left[\n",
        "\\begin{array}{c}\n",
        "5\\\\\n",
        "6\n",
        "\\end{array}\n",
        "\\right]\n",
        "$$\n",
        "\n",
        "$$Det\\ A =  (1 * 4) - (3 * 2)  = 4 - 6 = -2$$\n",
        "\n",
        "$$A_1 = \\left[\n",
        "  \\begin{array}{cc}\n",
        "5 & 2\\\\\n",
        "6 & 4\n",
        "\\end{array}\n",
        "\\right]\n",
        "$$\n",
        "\n",
        "$$Det\\ A_1 = (5 * 4) - (6 * 2) = 20 - 12 =  8$$\n",
        "\n",
        "$$x_1 =  \\frac{Det\\ A_1}{Det\\ A}= \\frac{8}{-2} =  -4$$\n",
        "\n",
        "$$A_2 = \\left[\n",
        "  \\begin{array}{cc}\n",
        "1 & 5\\\\\n",
        "3 & 6\n",
        "\\end{array}\n",
        "\\right]\n",
        "$$\n",
        "\n",
        "$$Det\\ A_2 = (1*6) - (3*5)  = 6 -15 = -9$$\n",
        "\n",
        "$$x_2 = \\frac{Det\\ A_2}{Det\\ A}= \\frac{-9}{-2} =  \\frac{9}{2}$$"
      ],
      "metadata": {
        "id": "SUmNm2PmfHU7"
      }
    },
    {
      "cell_type": "markdown",
      "source": [
        "- ***Adding a single digit to any number requires about 7.30 bits of processing.*** - World Mental Calculation: News and Resources for Competitive and Advanced Mental Calculation https://worldmentalcalculation.com/2019/06/30/fastest-possible-processing-speed-of-the-human-brain/\n",
        "\n",
        "- ***The human brain can process 11 million bits of information every second. But our conscious minds can handle only 40 to 50 bits of information a second.*** - Understanding Unconscious Bias https://www.npr.org/2020/07/14/891140598/understanding-unconscious-bias\n",
        "\n",
        "- ***A new way to analyze human reaction times shows that the brain processes data no faster than 60 bits per second.***- New Measure of Human Brain Processing Speed https://www.technologyreview.com/2009/08/25/210267/new-measure-of-human-brain-processing-speed/\n",
        "\n",
        "\n"
      ],
      "metadata": {
        "id": "3rH8z64pk2XV"
      }
    },
    {
      "cell_type": "markdown",
      "source": [
        "# Number of operations to compute a determinant by cofactor expasion\n",
        "- Cofactor expansion https://people.math.carleton.ca/~kcheung/math/notes/MATH1107/07/07_cofactor_expansion.html\n",
        "## Definition of A(i∣j)\n",
        "Let $A$ be an $n\\times n$ matrix. Let $i,j \\in \\{1,…,n\\}$. We define $A(i∣j)$  to be the matrix obtained from $A$ by removing row $i$ and column $j$ from $A$.\n",
        "\n",
        "## Cofactor formula\n",
        "One way of computing the determinant of an $n\\times n$  matrix\n",
        "\n",
        "$$A = \\left[\n",
        "  \\begin{array}{cccc}\n",
        "a_{11} & a_{12} & \\cdots & a_{1n}\\\\\n",
        "a_{21} & a_{22} & \\cdots & a_{2n}\\\\\n",
        "\\vdots  & \\vdots & \\ddots & \\vdots\\\\\n",
        "a_{n1} & a_{n2} & \\cdots & a_{nn}\\\\\n",
        "\\end{array}\n",
        "\\right]\n",
        "$$\n",
        "is to use the following formula called the cofactor formula.\n",
        "\n",
        "Pick either any $i\\ \\in \\{1,…,n\\}$ (fixed row) or $i\\ \\in \\{1,…,n\\}$ (fixed column). Then\n",
        "\n",
        "$$\\det(A)  = \\sum_{j=1}^n (-1)^{i+j}a_{ij} \\det(A(i∣j)) $$\n",
        "\n",
        "\n",
        "$C_{i,j}= (-1)^{i+j}a_{ij} \\det(A(i∣j))$ is called a cofactor of $A$.\n",
        "\n",
        "$$\\det(A)  = \\sum_{j=1}^n C_{i,j} $$\n",
        "\n"
      ],
      "metadata": {
        "id": "CgrSIpDOnaGQ"
      }
    },
    {
      "cell_type": "code",
      "source": [
        "# Code from https://stackoverflow.com/questions/16510111/computing-determinant-of-a-matrix-nxn-recursively\n",
        "\n",
        "import numpy as np\n",
        "\n",
        "def smaller_matrix(original_matrix,row, column):\n",
        "    for ii in range(len(original_matrix)):\n",
        "        new_matrix=np.delete(original_matrix,ii,0)\n",
        "        new_matrix=np.delete(new_matrix,column,1)\n",
        "        return new_matrix\n",
        "\n",
        "\n",
        "def determinant(matrix):\n",
        "    \"\"\"Returns a determinant of a matrix by recursive method.\"\"\"\n",
        "    (r,c) = matrix.shape\n",
        "    if r != c:\n",
        "        print(\"Error!Not a square matrix!\")\n",
        "        return None\n",
        "    elif r==2:\n",
        "        simple_determinant = matrix[0][0]*matrix[1][1]-matrix[0][1]*matrix[1][0]\n",
        "        return simple_determinant\n",
        "    else:\n",
        "        answer=0\n",
        "        for j in range(r):\n",
        "            cofactor = (-1)**(0+j) * matrix[0][j] * determinant(smaller_matrix(matrix, 0, j))\n",
        "            answer+= cofactor\n",
        "        return answer"
      ],
      "metadata": {
        "id": "J-joKRBhC7eF"
      },
      "execution_count": null,
      "outputs": []
    },
    {
      "cell_type": "code",
      "source": [
        "#test the function\n",
        "#Only works for numpy.array input\n",
        "np.random.seed(1)"
      ],
      "metadata": {
        "id": "Il2pcRD4DptG"
      },
      "execution_count": null,
      "outputs": []
    },
    {
      "cell_type": "code",
      "source": [
        "n = 2\n",
        "matrix=np.random.randint(-5,5,size=(n,n))\n",
        "matrix"
      ],
      "metadata": {
        "colab": {
          "base_uri": "https://localhost:8080/"
        },
        "id": "AgKC1-aiFRW2",
        "outputId": "4a6f1d49-038f-453b-e6dc-0c86d09ce50b"
      },
      "execution_count": null,
      "outputs": [
        {
          "output_type": "execute_result",
          "data": {
            "text/plain": [
              "array([[0, 3],\n",
              "       [4, 0]])"
            ]
          },
          "metadata": {},
          "execution_count": 36
        }
      ]
    },
    {
      "cell_type": "code",
      "source": [
        "determinant(matrix)"
      ],
      "metadata": {
        "colab": {
          "base_uri": "https://localhost:8080/"
        },
        "outputId": "b6848f7f-7ea2-4237-e7eb-b7c21e0ac442",
        "id": "oI0rUp-SDptH"
      },
      "execution_count": null,
      "outputs": [
        {
          "output_type": "execute_result",
          "data": {
            "text/plain": [
              "-12"
            ]
          },
          "metadata": {},
          "execution_count": 37
        }
      ]
    },
    {
      "cell_type": "code",
      "source": [
        "np.linalg.det(matrix)"
      ],
      "metadata": {
        "colab": {
          "base_uri": "https://localhost:8080/"
        },
        "id": "iqZv7iK-KKXH",
        "outputId": "1ce580f8-fe15-4968-f59a-dabafd461420"
      },
      "execution_count": null,
      "outputs": [
        {
          "output_type": "execute_result",
          "data": {
            "text/plain": [
              "-12.0"
            ]
          },
          "metadata": {},
          "execution_count": 38
        }
      ]
    },
    {
      "cell_type": "code",
      "source": [
        "round(np.linalg.det(matrix))"
      ],
      "metadata": {
        "colab": {
          "base_uri": "https://localhost:8080/"
        },
        "id": "sY21rHM-KdlO",
        "outputId": "936f670c-4c9a-4226-83f0-7cd0b00aab62"
      },
      "execution_count": null,
      "outputs": [
        {
          "output_type": "execute_result",
          "data": {
            "text/plain": [
              "-12"
            ]
          },
          "metadata": {},
          "execution_count": 39
        }
      ]
    },
    {
      "cell_type": "code",
      "source": [
        "n = 5\n",
        "matrix=np.diag(np.random.randint(-10,10,size=(n)))\n",
        "matrix"
      ],
      "metadata": {
        "colab": {
          "base_uri": "https://localhost:8080/"
        },
        "id": "-QXGZWFIDs5k",
        "outputId": "2b8f0679-9716-44c7-e0e1-67d102e6eee5"
      },
      "execution_count": null,
      "outputs": [
        {
          "output_type": "execute_result",
          "data": {
            "text/plain": [
              "array([[ 7,  0,  0,  0,  0],\n",
              "       [ 0, -3,  0,  0,  0],\n",
              "       [ 0,  0,  8,  0,  0],\n",
              "       [ 0,  0,  0,  7,  0],\n",
              "       [ 0,  0,  0,  0, -6]])"
            ]
          },
          "metadata": {},
          "execution_count": 2
        }
      ]
    },
    {
      "cell_type": "code",
      "source": [
        "determinant(matrix)"
      ],
      "metadata": {
        "colab": {
          "base_uri": "https://localhost:8080/"
        },
        "id": "VP6hRwhwD-3W",
        "outputId": "47d106b5-6e20-459a-99f0-e0268d68aa19"
      },
      "execution_count": null,
      "outputs": [
        {
          "output_type": "execute_result",
          "data": {
            "text/plain": [
              "5400"
            ]
          },
          "metadata": {},
          "execution_count": 41
        }
      ]
    },
    {
      "cell_type": "code",
      "source": [
        "np.linalg.det(matrix)"
      ],
      "metadata": {
        "colab": {
          "base_uri": "https://localhost:8080/"
        },
        "id": "8NV7Zvp-KtRz",
        "outputId": "bb51090a-5d60-4a58-af1e-bb0a32901155"
      },
      "execution_count": null,
      "outputs": [
        {
          "output_type": "execute_result",
          "data": {
            "text/plain": [
              "5400.000000000003"
            ]
          },
          "metadata": {},
          "execution_count": 42
        }
      ]
    },
    {
      "cell_type": "code",
      "source": [
        "round(np.linalg.det(matrix))"
      ],
      "metadata": {
        "colab": {
          "base_uri": "https://localhost:8080/"
        },
        "id": "HXKK3weLKt5T",
        "outputId": "6efd5722-21be-4bf9-aa80-bdb4018ded28"
      },
      "execution_count": null,
      "outputs": [
        {
          "output_type": "execute_result",
          "data": {
            "text/plain": [
              "5400"
            ]
          },
          "metadata": {},
          "execution_count": 43
        }
      ]
    },
    {
      "cell_type": "code",
      "source": [
        "# Modified from the previous code\n",
        "import numpy as np\n",
        "\n",
        "# A a squared numpy matrix\n",
        "def det(A):\n",
        "    \"\"\"Returns a determinant of a matrix by recursive method.\"\"\"\n",
        "    (r,c) = A.shape\n",
        "    if r != c:\n",
        "        print(\"Error!Not a square matrix!\")\n",
        "        return None\n",
        "    elif r==1:\n",
        "          # the code with  r==2 is more efficient but we use this\n",
        "         # because the number of operations is easier to compute\n",
        "        return A[0][0]\n",
        "    else:\n",
        "        answer=0\n",
        "        for j in range(r):\n",
        "            s = 1 if (0+j)%2 == 0 else -1\n",
        "            Aij = np.delete(A,0,0)\n",
        "            Aij = np.delete(Aij,j,1)\n",
        "            cofactor = (s) * A[0][j] * det(Aij)\n",
        "            answer+= cofactor\n",
        "        return answer"
      ],
      "metadata": {
        "id": "B258g8lnBgnG"
      },
      "execution_count": 2,
      "outputs": []
    },
    {
      "cell_type": "code",
      "source": [
        "#test the function\n",
        "#Only works for numpy.array input\n",
        "np.random.seed(1)"
      ],
      "metadata": {
        "id": "ZR2mjlqiGdM6"
      },
      "execution_count": null,
      "outputs": []
    },
    {
      "cell_type": "code",
      "source": [
        "n = 2\n",
        "A=np.random.randint(-5,5,size=(n,n))\n",
        "A = np.array([[ 7, 1, 2],[ 3, 4, 5],[ 6, 8, 9]])\n",
        "A"
      ],
      "metadata": {
        "colab": {
          "base_uri": "https://localhost:8080/"
        },
        "outputId": "4eb931fb-a7ba-4be4-d9a3-7aae5b9d7c2e",
        "id": "jPpBCFaoGlak"
      },
      "execution_count": 19,
      "outputs": [
        {
          "output_type": "execute_result",
          "data": {
            "text/plain": [
              "array([[7, 1, 2],\n",
              "       [3, 4, 5],\n",
              "       [6, 8, 9]])"
            ]
          },
          "metadata": {},
          "execution_count": 19
        }
      ]
    },
    {
      "cell_type": "code",
      "source": [
        "det(A)"
      ],
      "metadata": {
        "colab": {
          "base_uri": "https://localhost:8080/"
        },
        "outputId": "f306ac97-e849-4255-f7ad-4dbb1ebf6c87",
        "id": "WKbuirZeGlak"
      },
      "execution_count": 20,
      "outputs": [
        {
          "output_type": "execute_result",
          "data": {
            "text/plain": [
              "-25"
            ]
          },
          "metadata": {},
          "execution_count": 20
        }
      ]
    },
    {
      "cell_type": "code",
      "source": [
        "determinant(A)"
      ],
      "metadata": {
        "colab": {
          "base_uri": "https://localhost:8080/",
          "height": 141
        },
        "id": "_B5xBFirTvQm",
        "outputId": "085fd74c-97d9-46df-de72-e8364c2bfc55"
      },
      "execution_count": 6,
      "outputs": [
        {
          "output_type": "error",
          "ename": "NameError",
          "evalue": "name 'determinant' is not defined",
          "traceback": [
            "\u001b[0;31m---------------------------------------------------------------------------\u001b[0m",
            "\u001b[0;31mNameError\u001b[0m                                 Traceback (most recent call last)",
            "\u001b[0;32m<ipython-input-6-abe38cf7a752>\u001b[0m in \u001b[0;36m<cell line: 1>\u001b[0;34m()\u001b[0m\n\u001b[0;32m----> 1\u001b[0;31m \u001b[0mdeterminant\u001b[0m\u001b[0;34m(\u001b[0m\u001b[0mA\u001b[0m\u001b[0;34m)\u001b[0m\u001b[0;34m\u001b[0m\u001b[0;34m\u001b[0m\u001b[0m\n\u001b[0m",
            "\u001b[0;31mNameError\u001b[0m: name 'determinant' is not defined"
          ]
        }
      ]
    },
    {
      "cell_type": "code",
      "source": [
        "np.linalg.det(A)"
      ],
      "metadata": {
        "colab": {
          "base_uri": "https://localhost:8080/"
        },
        "outputId": "d86ab6ce-0673-4086-d597-6a4815edb5a4",
        "id": "bRyF2dsFLbXC"
      },
      "execution_count": 18,
      "outputs": [
        {
          "output_type": "execute_result",
          "data": {
            "text/plain": [
              "-18.000000000000004"
            ]
          },
          "metadata": {},
          "execution_count": 18
        }
      ]
    },
    {
      "cell_type": "code",
      "source": [
        "round(np.linalg.det(A))"
      ],
      "metadata": {
        "colab": {
          "base_uri": "https://localhost:8080/"
        },
        "outputId": "d4b925dd-0f97-4da6-8a9a-d369f459439b",
        "id": "sOe1w9FPLbXD"
      },
      "execution_count": null,
      "outputs": [
        {
          "output_type": "execute_result",
          "data": {
            "text/plain": [
              "-12"
            ]
          },
          "metadata": {},
          "execution_count": 50
        }
      ]
    },
    {
      "cell_type": "code",
      "source": [
        "n = 10\n",
        "\n",
        "A=np.random.randint(-10,10,size=(n,n))\n",
        "\n",
        "A"
      ],
      "metadata": {
        "colab": {
          "base_uri": "https://localhost:8080/"
        },
        "outputId": "1abe5a33-f882-49ab-e453-40be1f7bb4f4",
        "id": "jzFX1soHGlak"
      },
      "execution_count": null,
      "outputs": [
        {
          "output_type": "execute_result",
          "data": {
            "text/plain": [
              "array([[-10,   2,  -8,   1,   6,  -3,   0,  -3,  -8, -10],\n",
              "       [ -6,   8,   5,  -6,   3,   2,  -5,   3,   4,   4],\n",
              "       [-10, -10,  -3,  -2,  -8,   1,   6,   7,  -7,  -4],\n",
              "       [ -2,   7,  -6,   9,  -1,   5,  -1,   4,  -6,   9],\n",
              "       [  9,   1,   8,   5, -10,   4,   2,  -2,   0,  -7],\n",
              "       [  0,  -5,   3,  -3,   1,   5,   8,   1,   7,   9],\n",
              "       [ -2,   3,  -1,   6,  -1,  -7,  -1,   8,  -1,   4],\n",
              "       [  1,  -3,   1,   5,   9,   1,  -1,  -2,  -9,   4],\n",
              "       [  4,   6,   9,   2,   0,  -2, -10,   2,  -5,   5],\n",
              "       [  5,   8,  -1,   7,  -3,  -8,  -1,  -4,   3,   6]])"
            ]
          },
          "metadata": {},
          "execution_count": 9
        }
      ]
    },
    {
      "cell_type": "code",
      "source": [
        "import time\n",
        "\n",
        "start_time = time.time()\n",
        "d = det(A)\n",
        "end_time = time.time()"
      ],
      "metadata": {
        "id": "I97qAqxGGlak"
      },
      "execution_count": null,
      "outputs": []
    },
    {
      "cell_type": "code",
      "source": [
        "print(\"det(A): \",d)\n",
        "print(\"time: \",end_time - start_time)"
      ],
      "metadata": {
        "colab": {
          "base_uri": "https://localhost:8080/"
        },
        "id": "s7Ud-gBiTD0n",
        "outputId": "d1cd119d-e170-46c8-c4ca-ebf432b6d376"
      },
      "execution_count": null,
      "outputs": [
        {
          "output_type": "stream",
          "name": "stdout",
          "text": [
            "det(A):  29129065307\n",
            "time:  77.39920783042908\n"
          ]
        }
      ]
    },
    {
      "cell_type": "code",
      "source": [
        "import time\n",
        "\n",
        "start_time = time.time()\n",
        "d = determinant(A)\n",
        "end_time = time.time()"
      ],
      "metadata": {
        "id": "kjLXFQOeTRd2"
      },
      "execution_count": null,
      "outputs": []
    },
    {
      "cell_type": "code",
      "source": [
        "print(\"determinant(A): \",d)\n",
        "print(\"time: \",end_time - start_time)"
      ],
      "metadata": {
        "colab": {
          "base_uri": "https://localhost:8080/"
        },
        "id": "_TQFWy4ZSiDZ",
        "outputId": "fe3e5383-1786-495a-f474-7ac4cddc5b14"
      },
      "execution_count": null,
      "outputs": [
        {
          "output_type": "stream",
          "name": "stdout",
          "text": [
            "determinant(A):  29129065307\n",
            "time:  35.02712106704712\n"
          ]
        }
      ]
    },
    {
      "cell_type": "code",
      "source": [
        "import time\n",
        "\n",
        "start_time = time.time()\n",
        "d = np.linalg.det(A)\n",
        "end_time = time.time()"
      ],
      "metadata": {
        "id": "jL23i77VT55-"
      },
      "execution_count": null,
      "outputs": []
    },
    {
      "cell_type": "code",
      "source": [
        "print(\"np.linalg.det(A): \",d)\n",
        "print(\"time: \",end_time - start_time)"
      ],
      "metadata": {
        "colab": {
          "base_uri": "https://localhost:8080/"
        },
        "id": "n94nx14VT5wn",
        "outputId": "80a0d002-e9ce-4c14-9604-7b82b86c070c"
      },
      "execution_count": null,
      "outputs": [
        {
          "output_type": "stream",
          "name": "stdout",
          "text": [
            "np.linalg.det(A):  29129065306.99992\n",
            "time:  0.0003056526184082031\n"
          ]
        }
      ]
    },
    {
      "cell_type": "markdown",
      "source": [
        "# Estimating the time by instruction in Python in a Colab machine"
      ],
      "metadata": {
        "id": "Ssedt2z56DNC"
      }
    },
    {
      "cell_type": "code",
      "source": [
        "import numpy as np\n",
        "\n",
        "n = 100\n",
        "\n",
        "A = np.ones((n,n))\n",
        "\n",
        "A"
      ],
      "metadata": {
        "colab": {
          "base_uri": "https://localhost:8080/"
        },
        "id": "1KhlyeNi4uwa",
        "outputId": "6e4fb17c-fd91-47f9-a486-71528a23ce13"
      },
      "execution_count": null,
      "outputs": [
        {
          "output_type": "execute_result",
          "data": {
            "text/plain": [
              "array([[1., 1., 1., ..., 1., 1., 1.],\n",
              "       [1., 1., 1., ..., 1., 1., 1.],\n",
              "       [1., 1., 1., ..., 1., 1., 1.],\n",
              "       ...,\n",
              "       [1., 1., 1., ..., 1., 1., 1.],\n",
              "       [1., 1., 1., ..., 1., 1., 1.],\n",
              "       [1., 1., 1., ..., 1., 1., 1.]])"
            ]
          },
          "metadata": {},
          "execution_count": 11
        }
      ]
    },
    {
      "cell_type": "code",
      "source": [
        "B = np.ones((n,n))\n",
        "\n",
        "B"
      ],
      "metadata": {
        "colab": {
          "base_uri": "https://localhost:8080/"
        },
        "id": "RKtHO3UY5M87",
        "outputId": "c4dbf1b5-e683-4a58-aba7-74aac4e7b632"
      },
      "execution_count": null,
      "outputs": [
        {
          "output_type": "execute_result",
          "data": {
            "text/plain": [
              "array([[1., 1., 1., ..., 1., 1., 1.],\n",
              "       [1., 1., 1., ..., 1., 1., 1.],\n",
              "       [1., 1., 1., ..., 1., 1., 1.],\n",
              "       ...,\n",
              "       [1., 1., 1., ..., 1., 1., 1.],\n",
              "       [1., 1., 1., ..., 1., 1., 1.],\n",
              "       [1., 1., 1., ..., 1., 1., 1.]])"
            ]
          },
          "metadata": {},
          "execution_count": 12
        }
      ]
    },
    {
      "cell_type": "code",
      "source": [
        "import time\n",
        "\n",
        "C= np.zeros((n,n))\n",
        "\n",
        "start_time = time.time()\n",
        "for i in range(n):\n",
        "        for j in range(n):\n",
        "            C[i][j] = 0\n",
        "            for k in range(len(A[0])):\n",
        "                C[i][j] += A[i][k] * B[k][j]\n",
        "end_time = time.time()\n",
        "print(end_time - start_time)"
      ],
      "metadata": {
        "colab": {
          "base_uri": "https://localhost:8080/"
        },
        "id": "0UFSLi-F5P0a",
        "outputId": "3a9560db-c757-48f7-9d6a-62da5c4cc851"
      },
      "execution_count": null,
      "outputs": [
        {
          "output_type": "stream",
          "name": "stdout",
          "text": [
            "2.1619961261749268\n"
          ]
        }
      ]
    },
    {
      "cell_type": "code",
      "source": [
        "C"
      ],
      "metadata": {
        "colab": {
          "base_uri": "https://localhost:8080/"
        },
        "id": "h9zr4Z9P61bs",
        "outputId": "0e24a4c1-6597-4daf-92c8-87e470bdaeb2"
      },
      "execution_count": null,
      "outputs": [
        {
          "output_type": "execute_result",
          "data": {
            "text/plain": [
              "array([[100., 100., 100., ..., 100., 100., 100.],\n",
              "       [100., 100., 100., ..., 100., 100., 100.],\n",
              "       [100., 100., 100., ..., 100., 100., 100.],\n",
              "       ...,\n",
              "       [100., 100., 100., ..., 100., 100., 100.],\n",
              "       [100., 100., 100., ..., 100., 100., 100.],\n",
              "       [100., 100., 100., ..., 100., 100., 100.]])"
            ]
          },
          "metadata": {},
          "execution_count": 14
        }
      ]
    },
    {
      "cell_type": "code",
      "source": [
        "time_by_oper_python = (end_time - start_time)/(2*n**3 - n**2)\n",
        "\n",
        "time_by_oper_python"
      ],
      "metadata": {
        "colab": {
          "base_uri": "https://localhost:8080/"
        },
        "id": "iEhaMEK77Ko7",
        "outputId": "71f781aa-969b-490c-dc79-b469b2c3d076"
      },
      "execution_count": null,
      "outputs": [
        {
          "output_type": "execute_result",
          "data": {
            "text/plain": [
              "1.0864302141582546e-06"
            ]
          },
          "metadata": {},
          "execution_count": 15
        }
      ]
    },
    {
      "cell_type": "code",
      "source": [
        "import time\n",
        "import numpy as np\n",
        "\n",
        "start_time = time.time()\n",
        "C = A@B\n",
        "end_time = time.time()\n",
        "print(end_time - start_time)"
      ],
      "metadata": {
        "colab": {
          "base_uri": "https://localhost:8080/"
        },
        "id": "TfGsw6UF9o-a",
        "outputId": "b67bbf5d-c14e-4836-eaaa-0aa74bffd957"
      },
      "execution_count": null,
      "outputs": [
        {
          "output_type": "stream",
          "name": "stdout",
          "text": [
            "0.0065572261810302734\n"
          ]
        }
      ]
    },
    {
      "cell_type": "code",
      "source": [
        "C"
      ],
      "metadata": {
        "colab": {
          "base_uri": "https://localhost:8080/"
        },
        "id": "Q5MtZtVT93oQ",
        "outputId": "52f146b9-6b58-4629-a921-27a55dec902f"
      },
      "execution_count": null,
      "outputs": [
        {
          "output_type": "execute_result",
          "data": {
            "text/plain": [
              "array([[100., 100., 100., ..., 100., 100., 100.],\n",
              "       [100., 100., 100., ..., 100., 100., 100.],\n",
              "       [100., 100., 100., ..., 100., 100., 100.],\n",
              "       ...,\n",
              "       [100., 100., 100., ..., 100., 100., 100.],\n",
              "       [100., 100., 100., ..., 100., 100., 100.],\n",
              "       [100., 100., 100., ..., 100., 100., 100.]])"
            ]
          },
          "metadata": {},
          "execution_count": 17
        }
      ]
    },
    {
      "cell_type": "code",
      "source": [
        "time_by_oper_numpy = (end_time - start_time)/(2*n**3 - n**2)\n",
        "\n",
        "time_by_oper_numpy"
      ],
      "metadata": {
        "colab": {
          "base_uri": "https://localhost:8080/"
        },
        "id": "DTVYQYxT-TsJ",
        "outputId": "522956b5-2f73-4c47-c908-8d9cbd079990"
      },
      "execution_count": null,
      "outputs": [
        {
          "output_type": "execute_result",
          "data": {
            "text/plain": [
              "3.295088533181042e-09"
            ]
          },
          "metadata": {},
          "execution_count": 18
        }
      ]
    },
    {
      "cell_type": "markdown",
      "source": [
        "# Time estimation for the digital computer computation of a 3 x 3 matrix determinant by cofactor expansion\n",
        "\n",
        "The number of operations $(+,-,*)$ perfomed  *det(A)* algorithm that calculates\n",
        "\n",
        "$$\\det(A)  = \\sum_{j=1}^n (-1)^{i+j}a_{ij} \\det(A(i∣j)) $$\n",
        "\n",
        "is given by\n",
        "\n",
        "$$\\begin{array}{lll}\n",
        "T(n) & =&  nT(n-1) + 5n , T(1) = 1\\\\\n",
        "\\end{array}\n",
        "$$\n",
        "\n",
        "$$\\begin{array}{lll}\n",
        "T(n) & =&  nT(n-1) + 5n\\\\\n",
        "     & =&  n[(n-1) T(n-2) + 5 (n-1) +10] + 5n  \\\\\n",
        "     & =&  n(n-1) T(n-2) + 5 n  (n-1) + 5n \\\\\n",
        "     & =&  n(n-1) [(n-2) T(n-3) + 5 (n-2)] + 5 n(n-1) + 5n\\\\\n",
        "     & = & n(n-1)(n-2) T(n-3) + 5n(n-1)(n-2)+  5 n  (n-1) + 5n \\\\\n",
        "     & \\vdots\\\\\n",
        "     & = &  n(n-1)(n-2)\\cdots (n -(n-2))  T(1) + [5n(n-1)(n-2)(n-3)\\cdots (n -(n-3))] + \\cdots + [5 n (n-1)]+ 5n \\\\\n",
        "    & = & n! + [5n(n-1)(n-2)(n-3)\\cdots 2] + [5n(n-1)(n-2)(n-3)\\cdots 3]+ \\cdots +[5 n (n-1) (n-3)] + [5 n (n-1)]+ 5n  \n",
        "\\end{array}\n",
        "$$\n",
        "\n",
        "$$T(n) = n! + 5 \\sum_{i=0}^{n-1} n!/i! = n! + 5 n!\\sum_{i=0}^{n-1} \\frac{1}{i!} < n! + 5 e n! < 16 n!  $$\n",
        "\n",
        "1. Asumming that an arithmetic operation takes the *time_by_oper_python* estimated before,  what is the maximun square matrix size for which the deteminant can be computed with cofactor extesion in $\\le$ 3 minute. Report the time at [LABCramer](https://docs.google.com/spreadsheets/d/1JNUbuj3QHcyPmp8i6kNreUFucj2mOvKHkCFHHy7zfws/edit?usp=sharing).\n",
        "\n",
        "2. Run an experiment with a random matrix of that size and report the time at [LABCramer](https://docs.google.com/spreadsheets/d/1JNUbuj3QHcyPmp8i6kNreUFucj2mOvKHkCFHHy7zfws/edit?usp=sharing).\n",
        "\n",
        "If the determinant of a $n \\times n$ square matrix takes $16 n!$ operations how much takes the Crammer solution of $n \\times n$ systems of linear equations?\n",
        "\n",
        "\n",
        "\n",
        "\n"
      ],
      "metadata": {
        "id": "PhAai3wzo_Tc"
      }
    },
    {
      "cell_type": "markdown",
      "source": [
        "![Capture.PNG](data:image/png;base64,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)"
      ],
      "metadata": {
        "id": "RH0qJEi76-KN"
      }
    },
    {
      "cell_type": "markdown",
      "source": [
        "# Time estimation for the human computer computation of a 3 x 3 matrix determinant by cofactor expansion\n",
        "\n",
        " Write a 3 x 3 matrix with the first element as your list number Mod 10 and the rest row by row 1,2,3,...9 skipimg the first element, by example if youir list number is 12, your list number Mod 10 is 2 and the matrix is\n",
        "$$A = \\left[\n",
        "  \\begin{array}{ccc}\n",
        "2 & 1 & 3\\\\\n",
        "4 & 5 & 6\\\\\n",
        "7 & 8 & 9\\\\\n",
        "\\end{array}\n",
        "\\right]\n",
        "$$\n",
        "Use a chronometer like http://online-stopwatch.chronme.com/ to estimate the time to compute the determinant by using the procedure in the follo wing exmaple (https://people.math.carleton.ca/~kcheung/math/notes/MATH1107/07/07_cofactor_expansion.html):<br />  \n",
        "Let\n",
        "$$A = \\begin{bmatrix} 1 & 2 & 3\\\\ 4 & 5 & 6\\\\ 7 & 8 & 9 \\end{bmatrix}$$\n",
        "we compute $\\det(A)$ by expanding along row $2$ as <br /> <br />\n",
        "$$\\begin{eqnarray} \\det(A) & = & (-1)^{2+1}A_{2,1}\\det(A(2 \\mid 1)) + (-1)^{2+2}A_{2,2}\\det(A(2 \\mid 2)) + (-1)^{2+3}A_{2,3}\\det(A(2 \\mid 3)) \\\\ & = & -4\\left|\\begin{matrix} 2 & 3 \\\\ 8 & 9\\end{matrix}\\right| + 5\\left|\\begin{matrix} 1 & 3 \\\\ 7 & 9\\end{matrix}\\right| - 6\\left|\\begin{matrix} 1 & 2 \\\\ 7 & 8\\end{matrix}\\right| \\\\ & = & -4(2\\cdot 9 - 3\\cdot 8) + 5(1 \\cdot 9- 3\\cdot 7) - 6(1\\cdot 8 - 2 \\cdot 7) \\\\ & = & 24 - 60 + 36 \\\\ & = & 0 \\end{eqnarray}$$\n",
        "3. Report the time at [LABCramer](https://docs.google.com/spreadsheets/d/1JNUbuj3QHcyPmp8i6kNreUFucj2mOvKHkCFHHy7zfws/edit?usp=sharing)\n",
        "4. Report the value of the determinant at [LABCramer](https://docs.google.com/spreadsheets/d/1JNUbuj3QHcyPmp8i6kNreUFucj2mOvKHkCFHHy7zfws/edit?usp=sharing)\n"
      ],
      "metadata": {
        "id": "__brdhGadAXY"
      }
    },
    {
      "cell_type": "markdown",
      "source": [
        "1. 10x10 , 63s\n",
        "2. 77.39920783042908\n",
        "3. 193 s\n",
        "4. -25"
      ],
      "metadata": {
        "id": "6FRXPUsa7Uyd"
      }
    }
  ]
}